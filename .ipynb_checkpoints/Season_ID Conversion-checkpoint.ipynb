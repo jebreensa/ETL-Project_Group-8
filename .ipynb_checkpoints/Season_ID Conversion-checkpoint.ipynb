{
 "cells": [
  {
   "cell_type": "code",
   "execution_count": 2,
   "metadata": {},
   "outputs": [],
   "source": [
    "# Importing all Dependencies \n",
    "import os\n",
    "import pandas as pd\n",
    "import csv"
   ]
  },
  {
   "cell_type": "code",
   "execution_count": 87,
   "metadata": {},
   "outputs": [],
   "source": [
    "# formatting Season ID Column: \n",
    "f_path=os.path.join(\"NBA_Players_Stats.csv\")\n",
    "df=pd.read_csv(f_path)\n",
    "df_SeasonID=df['SEASON_ID'].str.split('-', expand=True)\n",
    "df_SeasonID=df_SeasonID[0].astype(float)\n",
    "df_SeasonID+=1\n",
    "df['SEASON_ID']=df_SeasonID\n",
    "df['SEASON_ID'] = pd.to_datetime(df['SEASON_ID'], format='%Y')\n",
    "df['SEASON_ID'] = df['SEASON_ID'].dt.year\n",
    "# formatting Season ID Column: \n",
    "df.to_csv(\"NBA_Players_Stats_Updated.csv\")\n"
   ]
  }
 ],
 "metadata": {
  "kernelspec": {
   "display_name": "Python 3",
   "language": "python",
   "name": "python3"
  },
  "language_info": {
   "codemirror_mode": {
    "name": "ipython",
    "version": 3
   },
   "file_extension": ".py",
   "mimetype": "text/x-python",
   "name": "python",
   "nbconvert_exporter": "python",
   "pygments_lexer": "ipython3",
   "version": "3.7.6"
  }
 },
 "nbformat": 4,
 "nbformat_minor": 4
}
