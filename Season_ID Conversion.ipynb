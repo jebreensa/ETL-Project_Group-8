{
 "cells": [
  {
   "cell_type": "code",
   "execution_count": 2,
   "metadata": {},
   "outputs": [],
   "source": [
    "# Importing all Dependencies \n",
    "import os\n",
    "import pandas as pd\n",
    "import csv"
   ]
  },
  {
   "cell_type": "code",
   "execution_count": 104,
   "metadata": {},
   "outputs": [],
   "source": [
    "# formatting Season ID Column: \n",
    "f_path=os.path.join(\"NBA_Players_Stats.csv\")\n",
    "df=pd.read_csv(f_path)\n",
    "df_SeasonID=df['SEASON_ID'].str.split('-', expand=True)\n",
    "df_SeasonID=df_SeasonID[0].astype(float)\n",
    "df_SeasonID+=1\n",
    "df['SEASON_ID']=df_SeasonID\n",
    "df['SEASON_ID'] = pd.to_datetime(df['SEASON_ID'], format='%Y')\n",
    "df['SEASON_ID'] = df['SEASON_ID'].dt.year\n",
    "# formatting Season ID Column: \n",
    "df.to_csv(\"NBA_Players_Stats_Updated.csv\")\n"
   ]
  },
  {
   "cell_type": "code",
   "execution_count": 105,
   "metadata": {},
   "outputs": [
    {
     "data": {
      "text/html": [
       "<div>\n",
       "<style scoped>\n",
       "    .dataframe tbody tr th:only-of-type {\n",
       "        vertical-align: middle;\n",
       "    }\n",
       "\n",
       "    .dataframe tbody tr th {\n",
       "        vertical-align: top;\n",
       "    }\n",
       "\n",
       "    .dataframe thead th {\n",
       "        text-align: right;\n",
       "    }\n",
       "</style>\n",
       "<table border=\"1\" class=\"dataframe\">\n",
       "  <thead>\n",
       "    <tr style=\"text-align: right;\">\n",
       "      <th></th>\n",
       "      <th>Year</th>\n",
       "      <th>Ave.</th>\n",
       "    </tr>\n",
       "  </thead>\n",
       "  <tbody>\n",
       "    <tr>\n",
       "      <th>0</th>\n",
       "      <td>2020</td>\n",
       "      <td>NaN</td>\n",
       "    </tr>\n",
       "    <tr>\n",
       "      <th>1</th>\n",
       "      <td>2019</td>\n",
       "      <td>255.657</td>\n",
       "    </tr>\n",
       "    <tr>\n",
       "      <th>2</th>\n",
       "      <td>2018</td>\n",
       "      <td>251.107</td>\n",
       "    </tr>\n",
       "    <tr>\n",
       "      <th>3</th>\n",
       "      <td>2017</td>\n",
       "      <td>245.120</td>\n",
       "    </tr>\n",
       "    <tr>\n",
       "      <th>4</th>\n",
       "      <td>2016</td>\n",
       "      <td>240.008</td>\n",
       "    </tr>\n",
       "    <tr>\n",
       "      <th>...</th>\n",
       "      <td>...</td>\n",
       "      <td>...</td>\n",
       "    </tr>\n",
       "    <tr>\n",
       "      <th>103</th>\n",
       "      <td>1917</td>\n",
       "      <td>12.800</td>\n",
       "    </tr>\n",
       "    <tr>\n",
       "      <th>104</th>\n",
       "      <td>1916</td>\n",
       "      <td>10.900</td>\n",
       "    </tr>\n",
       "    <tr>\n",
       "      <th>105</th>\n",
       "      <td>1915</td>\n",
       "      <td>10.100</td>\n",
       "    </tr>\n",
       "    <tr>\n",
       "      <th>106</th>\n",
       "      <td>1914</td>\n",
       "      <td>10.000</td>\n",
       "    </tr>\n",
       "    <tr>\n",
       "      <th>107</th>\n",
       "      <td>1913</td>\n",
       "      <td>9.900</td>\n",
       "    </tr>\n",
       "  </tbody>\n",
       "</table>\n",
       "<p>108 rows × 2 columns</p>\n",
       "</div>"
      ],
      "text/plain": [
       "     Year     Ave.\n",
       "0    2020      NaN\n",
       "1    2019  255.657\n",
       "2    2018  251.107\n",
       "3    2017  245.120\n",
       "4    2016  240.008\n",
       "..    ...      ...\n",
       "103  1917   12.800\n",
       "104  1916   10.900\n",
       "105  1915   10.100\n",
       "106  1914   10.000\n",
       "107  1913    9.900\n",
       "\n",
       "[108 rows x 2 columns]"
      ]
     },
     "execution_count": 105,
     "metadata": {},
     "output_type": "execute_result"
    }
   ],
   "source": [
    "stats_df=df\n",
    "# Exporting Historical ID:\n",
    "f_path=os.path.join(\"Historical_CPI.csv\")\n",
    "Historical_CPI_df=pd.read_csv(f_path)\n",
    "Historical_CPI_df=Historical_CPI_df[[\"Year\",\"Ave.\"]]\n",
    "Historical_CPI_df\n"
   ]
  },
  {
   "cell_type": "code",
   "execution_count": 114,
   "metadata": {},
   "outputs": [],
   "source": [
    "merge_df=stats_df.merge(Historical_CPI_df, left_on='SEASON_ID', right_on='Year')\n",
    "merge_df.to_csv('NBA_Players_Stats_Updated.csv')\n"
   ]
  }
 ],
 "metadata": {
  "kernelspec": {
   "display_name": "Python 3",
   "language": "python",
   "name": "python3"
  },
  "language_info": {
   "codemirror_mode": {
    "name": "ipython",
    "version": 3
   },
   "file_extension": ".py",
   "mimetype": "text/x-python",
   "name": "python",
   "nbconvert_exporter": "python",
   "pygments_lexer": "ipython3",
   "version": "3.7.6"
  }
 },
 "nbformat": 4,
 "nbformat_minor": 4
}
